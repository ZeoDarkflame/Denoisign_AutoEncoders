{
 "cells": [
  {
   "cell_type": "markdown",
   "metadata": {
    "colab_type": "text",
    "id": "0h6wTif-kw26"
   },
   "source": [
    "# AutoEncoder Playground"
   ]
  },
  {
   "cell_type": "code",
   "execution_count": null,
   "metadata": {
    "colab": {
     "base_uri": "https://localhost:8080/",
     "height": 36
    },
    "colab_type": "code",
    "id": "xDGiaFTLjAaA",
    "outputId": "3079f571-5f5e-41b6-c61f-7cf4a4cacb9a"
   },
   "outputs": [
    {
     "name": "stdout",
     "output_type": "stream",
     "text": [
      "cuda available\n"
     ]
    }
   ],
   "source": [
    "import numpy as np\n",
    "import matplotlib.pyplot as plt\n",
    "import struct\n",
    "import torch\n",
    "import torch.nn.functional as functions\n",
    "import torch.nn as nn\n",
    "import torch.optim as optim\n",
    "import pickle\n",
    "if torch.cuda.is_available():\n",
    "  device = torch.device('cuda')\n",
    "  print('cuda available')\n",
    "else:\n",
    "  device = None\n",
    "  print('cuda unavailable')"
   ]
  },
  {
   "cell_type": "markdown",
   "metadata": {
    "colab_type": "text",
    "id": "2pULOHkV000B"
   },
   "source": [
    "## Loading CIFAR-10"
   ]
  },
  {
   "cell_type": "code",
   "execution_count": null,
   "metadata": {
    "colab": {
     "base_uri": "https://localhost:8080/",
     "height": 36
    },
    "colab_type": "code",
    "id": "XiSunOac036K",
    "outputId": "715722f0-1e49-4ef0-e479-9880eba2c380"
   },
   "outputs": [
    {
     "name": "stdout",
     "output_type": "stream",
     "text": [
      "[b'batch_label', b'labels', b'data', b'filenames']\n"
     ]
    }
   ],
   "source": [
    "with open('/content/drive/My Drive/Colab Notebooks/CIFAR-10/data_batch_1', 'rb') as fo:\n",
    "    dict = pickle.load(fo, encoding='bytes')\n",
    "keys = list(dict.keys())\n",
    "print(keys)\n",
    "#Y = np.array(list(dict[keys[1]]))\n",
    "X = dict[keys[2]]"
   ]
  },
  {
   "cell_type": "code",
   "execution_count": null,
   "metadata": {
    "colab": {
     "base_uri": "https://localhost:8080/",
     "height": 36
    },
    "colab_type": "code",
    "id": "kFX95j3i1ICt",
    "outputId": "bf5ca6ee-bf48-4d9d-8bf8-a30c0652c8e1"
   },
   "outputs": [
    {
     "name": "stdout",
     "output_type": "stream",
     "text": [
      "uint8 (50000, 3072)\n"
     ]
    }
   ],
   "source": [
    "# loading other batches\n",
    "\n",
    "with open('/content/drive/My Drive/Colab Notebooks/CIFAR-10/data_batch_2', 'rb') as fo:\n",
    "    dict = pickle.load(fo, encoding='bytes')\n",
    "X = np.concatenate((X,dict[keys[2]]))\n",
    "#Y = np.concatenate((Y,np.array(list(dict[keys[1]]))))\n",
    "with open('/content/drive/My Drive/Colab Notebooks/CIFAR-10/data_batch_3', 'rb') as fo:\n",
    "    dict = pickle.load(fo, encoding='bytes')\n",
    "X = np.concatenate((X,dict[keys[2]]))\n",
    "#Y = np.concatenate((Y,np.array(list(dict[keys[1]]))))\n",
    "with open('/content/drive/My Drive/Colab Notebooks/CIFAR-10/data_batch_4', 'rb') as fo:\n",
    "    dict = pickle.load(fo, encoding='bytes')\n",
    "X = np.concatenate((X,dict[keys[2]]))\n",
    "#Y = np.concatenate((Y,np.array(list(dict[keys[1]]))))\n",
    "with open('/content/drive/My Drive/Colab Notebooks/CIFAR-10/data_batch_5', 'rb') as fo:\n",
    "    dict = pickle.load(fo, encoding='bytes')\n",
    "X = np.concatenate((X,dict[keys[2]]))\n",
    "#Y = np.concatenate((Y,np.array(list(dict[keys[1]]))))\n",
    "print(X.dtype,X.shape)\n",
    "#print(type(Y),Y.shape)"
   ]
  },
  {
   "cell_type": "code",
   "execution_count": null,
   "metadata": {
    "colab": {
     "base_uri": "https://localhost:8080/",
     "height": 36
    },
    "colab_type": "code",
    "id": "1mqt7H2F3533",
    "outputId": "57a89186-7ecd-4e64-c568-69588f1dd7da"
   },
   "outputs": [
    {
     "name": "stdout",
     "output_type": "stream",
     "text": [
      "float64 0.49411764705882355\n"
     ]
    }
   ],
   "source": [
    "X = X/255\n",
    "print(X.dtype,X[1,1])"
   ]
  },
  {
   "cell_type": "code",
   "execution_count": null,
   "metadata": {
    "colab": {
     "base_uri": "https://localhost:8080/",
     "height": 36
    },
    "colab_type": "code",
    "id": "5UFM-TRG1X6k",
    "outputId": "a9ce503a-bbaf-4904-bb51-fcc841f63f23"
   },
   "outputs": [
    {
     "name": "stdout",
     "output_type": "stream",
     "text": [
      "(50000, 3, 32, 32)\n"
     ]
    }
   ],
   "source": [
    "X_imaged = np.array((X[:,:1024].reshape(X.shape[0],32,32),X[:,1024:1024*2].reshape(X.shape[0],32,32),X[:,1024*2:1024*3].reshape(X.shape[0],32,32)))\n",
    "X_imaged_for_view = np.transpose(X_imaged,axes=(1,2,3,0))\n",
    "X_imaged = np.transpose(X_imaged,axes=(1,0,2,3))\n",
    "print(X_imaged.shape)"
   ]
  },
  {
   "cell_type": "code",
   "execution_count": null,
   "metadata": {
    "colab": {
     "base_uri": "https://localhost:8080/",
     "height": 285
    },
    "colab_type": "code",
    "id": "cZVGLj2O1s4m",
    "outputId": "4edd39b4-27ee-4b28-fff2-5b53f8d81e21"
   },
   "outputs": [
    {
     "data": {
      "text/plain": [
       "<matplotlib.image.AxesImage at 0x7fa7b5622390>"
      ]
     },
     "execution_count": 6,
     "metadata": {
      "tags": []
     },
     "output_type": "execute_result"
    },
    {
     "data": {
      "image/png": "[encoded data removed]",
      "text/plain": [
       "<Figure size 432x288 with 1 Axes>"
      ]
     },
     "metadata": {
      "needs_background": "light",
      "tags": []
     },
     "output_type": "display_data"
    }
   ],
   "source": [
    "plt.imshow(X_imaged_for_view[25])"
   ]
  },
  {
   "cell_type": "code",
   "execution_count": null,
   "metadata": {
    "colab": {
     "base_uri": "https://localhost:8080/",
     "height": 323
    },
    "colab_type": "code",
    "id": "XHf6wzWYYRvH",
    "outputId": "ea275280-84bb-4a2b-b1a9-798068ef5bb2"
   },
   "outputs": [
    {
     "name": "stdout",
     "output_type": "stream",
     "text": [
      "0.05000079297872527 -6.50498975319994e-06\n"
     ]
    },
    {
     "name": "stderr",
     "output_type": "stream",
     "text": [
      "Clipping input data to the valid range for imshow with RGB data ([0..1] for floats or [0..255] for integers).\n"
     ]
    },
    {
     "data": {
      "text/plain": [
       "<matplotlib.image.AxesImage at 0x7fa7b50d8828>"
      ]
     },
     "execution_count": 7,
     "metadata": {
      "tags": []
     },
     "output_type": "execute_result"
    },
    {
     "data": {
      "image/png": "[encoded data removed]",
      "text/plain": [
       "<Figure size 432x288 with 1 Axes>"
      ]
     },
     "metadata": {
      "needs_background": "light",
      "tags": []
     },
     "output_type": "display_data"
    }
   ],
   "source": [
    "noise = np.random.randn(50000,3072)\n",
    "print(np.std(noise/20),np.mean(noise/20))\n",
    "X_noised = X + noise/20\n",
    "X_noised_imaged = np.array((X_noised[:,:1024].reshape(X_noised.shape[0],32,32),X_noised[:,1024:1024*2].reshape(X_noised.shape[0],32,32),X_noised[:,1024*2:1024*3].reshape(X_noised.shape[0],32,32)))\n",
    "X_noised_imaged_for_view = np.transpose(X_noised_imaged,axes=(1,2,3,0))\n",
    "X_noised_imaged = np.transpose(X_noised_imaged,axes=(1,0,2,3))\n",
    "plt.imshow(X_noised_imaged_for_view[25])"
   ]
  },
  {
   "cell_type": "code",
   "execution_count": null,
   "metadata": {
    "colab": {
     "base_uri": "https://localhost:8080/",
     "height": 36
    },
    "colab_type": "code",
    "id": "B5W3lw4e1wq-",
    "outputId": "f0b9d31e-605b-4ec5-baf4-5d2c8f7a895e"
   },
   "outputs": [
    {
     "name": "stdout",
     "output_type": "stream",
     "text": [
      "torch.Size([50000, 3, 32, 32])\n"
     ]
    }
   ],
   "source": [
    "#X_noised = torch.from_numpy(X_noised\n",
    "X_noised_imaged = torch.from_numpy(X_noised_imaged)\n",
    "print(X_noised_imaged.size())"
   ]
  },
  {
   "cell_type": "markdown",
   "metadata": {
    "colab_type": "text",
    "id": "QG0K_2EwDNfg"
   },
   "source": [
    "## Convolutional Denoising AutoEncoder\n",
    "Load the CIFAR-10 dataset from the previous headings"
   ]
  },
  {
   "cell_type": "code",
   "execution_count": null,
   "metadata": {
    "colab": {},
    "colab_type": "code",
    "id": "hMconAELgc5d"
   },
   "outputs": [],
   "source": [
    "X_imaged = torch.from_numpy(X_imaged)"
   ]
  },
  {
   "cell_type": "code",
   "execution_count": null,
   "metadata": {
    "colab": {},
    "colab_type": "code",
    "id": "s0Slwv0uirVk"
   },
   "outputs": [],
   "source": [
    "X_imaged = X_imaged.to(device)"
   ]
  },
  {
   "cell_type": "code",
   "execution_count": null,
   "metadata": {
    "colab": {},
    "colab_type": "code",
    "id": "MM7XE4hdDQhd"
   },
   "outputs": [],
   "source": [
    "class Conv(nn.Module):  ## Saved as Automod_test6\n",
    "\n",
    "  def __init__(self):\n",
    "    super(Conv,self).__init__()\n",
    "    # Conv\n",
    "    self.l1 = nn.Conv2d(3,96,(5,5))\n",
    "    self.l2 = nn.Conv2d(96,120,(3,3))\n",
    "    self.l3 = nn.Conv2d(120,180,(3,3))\n",
    "    # Deconv\n",
    "    self.rl3 = nn.ConvTranspose2d(180,120,(3,3))\n",
    "    self.rl2 = nn.ConvTranspose2d(120,96,(3,3))\n",
    "    self.rl1 = nn.ConvTranspose2d(96,3,(5,5))\n",
    "\n",
    "  def forward(self,x):\n",
    "    # Conv\n",
    "    x1 = functions.relu(self.l1(x))\n",
    "    x2 = functions.relu(self.l2(x1))\n",
    "    x3 = functions.relu(self.l3(x2))\n",
    "    # Deconv\n",
    "    rx3 = functions.relu(self.rl3(x3))\n",
    "    rx2 = functions.relu(self.rl2(rx3))\n",
    "    rx1 = functions.relu(self.rl1(rx2))\n",
    "\n",
    "    return rx1"
   ]
  },
  {
   "cell_type": "code",
   "execution_count": null,
   "metadata": {
    "colab": {},
    "colab_type": "code",
    "id": "fivbjObtDV0c"
   },
   "outputs": [],
   "source": [
    "net = Conv().double()\n",
    "net.to(device)\n",
    "optimizer = optim.Adam(net.parameters(),lr = 0.001)"
   ]
  },
  {
   "cell_type": "code",
   "execution_count": null,
   "metadata": {
    "colab": {
     "base_uri": "https://localhost:8080/",
     "height": 517
    },
    "colab_type": "code",
    "id": "TVlJyc0ri3DB",
    "outputId": "c70d1226-8ca1-42da-e5b4-0ae03aae98dd"
   },
   "outputs": [
    {
     "name": "stdout",
     "output_type": "stream",
     "text": [
      "At epoch 0 cost is 0.22890864052201698\n",
      "0 10 20 30 40 50 60 70 80 90 100 110 120 130 140 150 160 170 180 190 200 210 220 230 240 250 260 270 280 290 300 310 320 330 340 350 360 370 380 390 400 410 420 430 440 450 460 470 480 490 \n",
      "At epoch 1 cost is 0.004058226246011522\n",
      "0 10 20 30 40 50 60 70 80 90 100 110 120 130 140 150 160 170 180 190 200 210 220 230 240 250 260 270 280 290 300 310 320 330 340 350 360 370 380 390 400 410 420 430 440 450 460 470 480 490 \n",
      "At epoch 2 cost is 0.0027239607989705842\n",
      "0 10 20 30 40 50 60 70 80 90 100 110 120 130 140 150 160 170 180 190 200 210 220 230 240 250 260 270 280 290 300 310 320 330 340 350 360 370 380 390 400 410 420 430 440 450 460 470 480 490 \n",
      "At epoch 3 cost is 0.001946990005458842\n",
      "0 10 20 30 40 50 60 70 80 90 100 110 120 130 140 150 160 170 180 190 200 210 220 230 240 250 260 270 280 290 300 310 320 330 340 350 360 370 380 390 400 410 420 430 440 450 460 470 480 490 \n",
      "At epoch 4 cost is 0.0016938069257239838\n",
      "0 10 20 30 40 50 60 70 80 90 100 110 120 130 140 150 160 170 180 190 200 210 220 230 240 250 260 270 280 290 300 310 320 330 340 350 360 370 380 390 400 410 420 430 440 450 460 470 480 490 \n",
      "At epoch 5 cost is 0.002226723712222443\n",
      "0 10 20 30 40 50 60 70 80 90 100 110 120 130 140 150 160 170 180 190 200 210 220 230 240 250 260 270 280 290 300 310 320 330 340 350 360 370 380 390 400 410 420 430 440 450 460 470 480 490 \n",
      "At epoch 6 cost is 0.0015284019923118629\n",
      "0 10 20 30 40 50 60 70 80 90 100 110 120 130 140 150 160 170 180 190 200 210 220 230 240 250 260 "
     ]
    },
    {
     "ename": "KeyboardInterrupt",
     "evalue": "ignored",
     "output_type": "error",
     "traceback": [
      "\u001b[0;31m---------------------------------------------------------------------------\u001b[0m",
      "\u001b[0;31mKeyboardInterrupt\u001b[0m                         Traceback (most recent call last)",
      "\u001b[0;32m<ipython-input-13-243d7a4e7ef3>\u001b[0m in \u001b[0;36m<module>\u001b[0;34m()\u001b[0m\n\u001b[1;32m     10\u001b[0m     \u001b[0mcost\u001b[0m\u001b[0;34m.\u001b[0m\u001b[0mbackward\u001b[0m\u001b[0;34m(\u001b[0m\u001b[0;34m)\u001b[0m\u001b[0;34m\u001b[0m\u001b[0;34m\u001b[0m\u001b[0m\n\u001b[1;32m     11\u001b[0m     \u001b[0moptimizer\u001b[0m\u001b[0;34m.\u001b[0m\u001b[0mstep\u001b[0m\u001b[0;34m(\u001b[0m\u001b[0;34m)\u001b[0m\u001b[0;34m\u001b[0m\u001b[0;34m\u001b[0m\u001b[0m\n\u001b[0;32m---> 12\u001b[0;31m     \u001b[0mcosts\u001b[0m\u001b[0;34m.\u001b[0m\u001b[0mappend\u001b[0m\u001b[0;34m(\u001b[0m\u001b[0mfloat\u001b[0m\u001b[0;34m(\u001b[0m\u001b[0mcost\u001b[0m\u001b[0;34m.\u001b[0m\u001b[0mitem\u001b[0m\u001b[0;34m(\u001b[0m\u001b[0;34m)\u001b[0m\u001b[0;34m)\u001b[0m\u001b[0;34m)\u001b[0m\u001b[0;34m\u001b[0m\u001b[0;34m\u001b[0m\u001b[0m\n\u001b[0m\u001b[1;32m     13\u001b[0m     \u001b[0;32mif\u001b[0m\u001b[0;34m(\u001b[0m\u001b[0mj\u001b[0m \u001b[0;34m==\u001b[0m \u001b[0;36m0\u001b[0m\u001b[0;34m)\u001b[0m\u001b[0;34m:\u001b[0m\u001b[0;34m\u001b[0m\u001b[0;34m\u001b[0m\u001b[0m\n\u001b[1;32m     14\u001b[0m       \u001b[0mprint\u001b[0m\u001b[0;34m(\u001b[0m\u001b[0;34m\"At epoch\"\u001b[0m\u001b[0;34m,\u001b[0m\u001b[0mi\u001b[0m\u001b[0;34m,\u001b[0m\u001b[0;34m\"cost is\"\u001b[0m\u001b[0;34m,\u001b[0m\u001b[0mfloat\u001b[0m\u001b[0;34m(\u001b[0m\u001b[0mcost\u001b[0m\u001b[0;34m.\u001b[0m\u001b[0mitem\u001b[0m\u001b[0;34m(\u001b[0m\u001b[0;34m)\u001b[0m\u001b[0;34m)\u001b[0m\u001b[0;34m)\u001b[0m\u001b[0;34m\u001b[0m\u001b[0;34m\u001b[0m\u001b[0m\n",
      "\u001b[0;31mKeyboardInterrupt\u001b[0m: "
     ]
    }
   ],
   "source": [
    "batchsize = 100\n",
    "epochs = 10\n",
    "cost_fn = nn.MSELoss()\n",
    "costs = []\n",
    "for i in range(epochs):\n",
    "  for j in range(X_imaged.size(0)//batchsize):\n",
    "    optimizer.zero_grad()\n",
    "    output = net(X_noised_imaged[j*batchsize:(j+1)*batchsize].to(device))\n",
    "    cost = cost_fn(output,X_imaged[j*batchsize:(j+1)*batchsize].to(device))\n",
    "    cost.backward()\n",
    "    optimizer.step()\n",
    "    costs.append(float(cost.item()))\n",
    "    if(j == 0):\n",
    "      print(\"At epoch\",i,\"cost is\",float(cost.item()))\n",
    "    if j%10 == 0:\n",
    "      print(j,end=' ')\n",
    "  print('')\n",
    "print(costs[-1])"
   ]
  },
  {
   "cell_type": "markdown",
   "metadata": {},
   "source": [
    "The Learning Was stopped after 6 epochs"
   ]
  },
  {
   "cell_type": "code",
   "execution_count": null,
   "metadata": {
    "colab": {
     "base_uri": "https://localhost:8080/",
     "height": 284
    },
    "colab_type": "code",
    "id": "qhG4uEn1jm-D",
    "outputId": "6251087a-150b-4994-d06c-547e93383a02"
   },
   "outputs": [
    {
     "data": {
      "text/plain": [
       "[<matplotlib.lines.Line2D at 0x7fa7b55a3630>]"
      ]
     },
     "execution_count": 14,
     "metadata": {
      "tags": []
     },
     "output_type": "execute_result"
    },
    {
     "data": {
      "image/png": "[encoded data removed]",
      "text/plain": [
       "<Figure size 432x288 with 1 Axes>"
      ]
     },
     "metadata": {
      "needs_background": "light",
      "tags": []
     },
     "output_type": "display_data"
    }
   ],
   "source": [
    "plt.plot(costs[50:])"
   ]
  },
  {
   "cell_type": "code",
   "execution_count": null,
   "metadata": {
    "colab": {},
    "colab_type": "code",
    "id": "7tT6b-dMkZm5"
   },
   "outputs": [],
   "source": [
    "torch.save(net.state_dict(),'/content/drive/My Drive/Colab Notebooks/Automod_test6.pth')"
   ]
  },
  {
   "cell_type": "code",
   "execution_count": null,
   "metadata": {
    "colab": {
     "base_uri": "https://localhost:8080/",
     "height": 36
    },
    "colab_type": "code",
    "id": "LivOlhdbjHIJ",
    "outputId": "d46f0052-888d-4f69-87ca-252f3d81e897"
   },
   "outputs": [
    {
     "name": "stdout",
     "output_type": "stream",
     "text": [
      "torch.Size([1000, 3, 32, 32])\n"
     ]
    }
   ],
   "source": [
    "with torch.no_grad():\n",
    "  X_output = net(X_noised_imaged[0:1000].to(device))\n",
    "  print(X_output.size())\n",
    "  X_output = X_output.cpu().numpy()"
   ]
  },
  {
   "cell_type": "code",
   "execution_count": null,
   "metadata": {
    "colab": {
     "base_uri": "https://localhost:8080/",
     "height": 36
    },
    "colab_type": "code",
    "id": "oKfvqMYfjM-C",
    "outputId": "7af7eb00-bbf3-426b-8d2f-d0450cc339aa"
   },
   "outputs": [
    {
     "name": "stdout",
     "output_type": "stream",
     "text": [
      "(1000, 32, 32, 3)\n"
     ]
    }
   ],
   "source": [
    "X_output_for_view = np.transpose(X_output,axes=(0,2,3,1))\n",
    "print(X_output_for_view.shape)"
   ]
  },
  {
   "cell_type": "markdown",
   "metadata": {},
   "source": [
    "### Output Image After Denoising"
   ]
  },
  {
   "cell_type": "code",
   "execution_count": null,
   "metadata": {
    "colab": {
     "base_uri": "https://localhost:8080/",
     "height": 304
    },
    "colab_type": "code",
    "id": "ip2uwoxY1d6J",
    "outputId": "35dc3137-a0e8-45a0-a3c2-dc0a6da6cf51"
   },
   "outputs": [
    {
     "name": "stderr",
     "output_type": "stream",
     "text": [
      "Clipping input data to the valid range for imshow with RGB data ([0..1] for floats or [0..255] for integers).\n"
     ]
    },
    {
     "data": {
      "text/plain": [
       "<matplotlib.image.AxesImage at 0x7fa52268f1d0>"
      ]
     },
     "execution_count": 41,
     "metadata": {
      "tags": []
     },
     "output_type": "execute_result"
    },
    {
     "data": {
      "image/png": "[encoded data removed]",
      "text/plain": [
       "<Figure size 432x288 with 1 Axes>"
      ]
     },
     "metadata": {
      "needs_background": "light",
      "tags": []
     },
     "output_type": "display_data"
    }
   ],
   "source": [
    "plt.imshow(X_output_for_view[1])"
   ]
  },
  {
   "cell_type": "markdown",
   "metadata": {},
   "source": [
    "### Input Noised Image"
   ]
  },
  {
   "cell_type": "code",
   "execution_count": null,
   "metadata": {
    "colab": {
     "base_uri": "https://localhost:8080/",
     "height": 304
    },
    "colab_type": "code",
    "id": "f2IKjJ6Z1qxf",
    "outputId": "5bba0432-8b65-4454-81ab-19a29d7b072d"
   },
   "outputs": [
    {
     "name": "stderr",
     "output_type": "stream",
     "text": [
      "Clipping input data to the valid range for imshow with RGB data ([0..1] for floats or [0..255] for integers).\n"
     ]
    },
    {
     "data": {
      "text/plain": [
       "<matplotlib.image.AxesImage at 0x7fa522667f28>"
      ]
     },
     "execution_count": 42,
     "metadata": {
      "tags": []
     },
     "output_type": "execute_result"
    },
    {
     "data": {
      "image/png": "[encoded data removed]",
      "text/plain": [
       "<Figure size 432x288 with 1 Axes>"
      ]
     },
     "metadata": {
      "needs_background": "light",
      "tags": []
     },
     "output_type": "display_data"
    }
   ],
   "source": [
    "plt.imshow(X_noised_imaged_for_view[1])"
   ]
  },
  {
   "cell_type": "markdown",
   "metadata": {},
   "source": [
    "### Original Image"
   ]
  },
  {
   "cell_type": "code",
   "execution_count": null,
   "metadata": {
    "colab": {
     "base_uri": "https://localhost:8080/",
     "height": 285
    },
    "colab_type": "code",
    "id": "9l4yK2OUkIQy",
    "outputId": "c5d20b92-1f4d-444d-a7cf-c5eef36741bb"
   },
   "outputs": [
    {
     "data": {
      "text/plain": [
       "<matplotlib.image.AxesImage at 0x7fa5225d1cf8>"
      ]
     },
     "execution_count": 43,
     "metadata": {
      "tags": []
     },
     "output_type": "execute_result"
    },
    {
     "data": {
      "image/png": "[encoded data removed]",
      "text/plain": [
       "<Figure size 432x288 with 1 Axes>"
      ]
     },
     "metadata": {
      "needs_background": "light",
      "tags": []
     },
     "output_type": "display_data"
    }
   ],
   "source": [
    "plt.imshow(X_imaged_for_view[1])"
   ]
  },
  {
   "cell_type": "markdown",
   "metadata": {},
   "source": [
    "### Adding More Noise"
   ]
  },
  {
   "cell_type": "code",
   "execution_count": null,
   "metadata": {
    "colab": {
     "base_uri": "https://localhost:8080/",
     "height": 323
    },
    "colab_type": "code",
    "id": "1ZHrie_0kOn6",
    "outputId": "093e7d3e-f9bc-4c08-a5ef-62bce042e1ae"
   },
   "outputs": [
    {
     "name": "stdout",
     "output_type": "stream",
     "text": [
      "0.04999998859340047 3.415988211184247e-06\n"
     ]
    },
    {
     "name": "stderr",
     "output_type": "stream",
     "text": [
      "Clipping input data to the valid range for imshow with RGB data ([0..1] for floats or [0..255] for integers).\n"
     ]
    },
    {
     "data": {
      "text/plain": [
       "<matplotlib.image.AxesImage at 0x7fa5b6a63780>"
      ]
     },
     "execution_count": 26,
     "metadata": {
      "tags": []
     },
     "output_type": "execute_result"
    },
    {
     "data": {
      "image/png": "[encoded data removed]",
      "text/plain": [
       "<Figure size 432x288 with 1 Axes>"
      ]
     },
     "metadata": {
      "needs_background": "light",
      "tags": []
     },
     "output_type": "display_data"
    }
   ],
   "source": [
    "noise = np.random.randn(50000,3072)\n",
    "print(np.std(noise/20),np.mean(noise/20))\n",
    "X_extra_noised = X + noise/10\n",
    "X_extra_noised_imaged = np.array((X_extra_noised[:,:1024].reshape(X_extra_noised.shape[0],32,32),X_extra_noised[:,1024:1024*2].reshape(X_extra_noised.shape[0],32,32),X_extra_noised[:,1024*2:1024*3].reshape(X_extra_noised.shape[0],32,32)))\n",
    "X_extra_noised_imaged_for_view = np.transpose(X_extra_noised_imaged,axes=(1,2,3,0))\n",
    "X_extra_noised_imaged = np.transpose(X_extra_noised_imaged,axes=(1,0,2,3))\n",
    "plt.imshow(X_extra_noised_imaged_for_view[25])"
   ]
  },
  {
   "cell_type": "code",
   "execution_count": null,
   "metadata": {
    "colab": {
     "base_uri": "https://localhost:8080/",
     "height": 36
    },
    "colab_type": "code",
    "id": "Wh8E9aBP3cXe",
    "outputId": "b318ace4-ad43-40a0-8718-d55192e90860"
   },
   "outputs": [
    {
     "name": "stdout",
     "output_type": "stream",
     "text": [
      "torch.Size([50000, 3, 32, 32])\n"
     ]
    }
   ],
   "source": [
    "X_extra_noised_imaged = torch.from_numpy(X_extra_noised_imaged)\n",
    "print(X_extra_noised_imaged.size())"
   ]
  },
  {
   "cell_type": "code",
   "execution_count": null,
   "metadata": {
    "colab": {
     "base_uri": "https://localhost:8080/",
     "height": 36
    },
    "colab_type": "code",
    "id": "YckVYyj43Ir4",
    "outputId": "e6bcdc4f-f405-448d-8b49-e5a4fec60283"
   },
   "outputs": [
    {
     "name": "stdout",
     "output_type": "stream",
     "text": [
      "torch.Size([1000, 3, 32, 32])\n"
     ]
    }
   ],
   "source": [
    "with torch.no_grad():\n",
    "  X_output = net(X_extra_noised_imaged[0:1000].to(device))\n",
    "  print(X_output.size())\n",
    "  X_output = X_output.cpu().numpy()"
   ]
  },
  {
   "cell_type": "code",
   "execution_count": null,
   "metadata": {
    "colab": {
     "base_uri": "https://localhost:8080/",
     "height": 36
    },
    "colab_type": "code",
    "id": "3MmiNqhe3mvz",
    "outputId": "d3862388-ffde-4052-e784-63c8e19fcd67"
   },
   "outputs": [
    {
     "name": "stdout",
     "output_type": "stream",
     "text": [
      "(1000, 32, 32, 3)\n"
     ]
    }
   ],
   "source": [
    "X_output_for_view = np.transpose(X_output,axes=(0,2,3,1))\n",
    "print(X_output_for_view.shape)"
   ]
  },
  {
   "cell_type": "markdown",
   "metadata": {},
   "source": [
    "### Original Image"
   ]
  },
  {
   "cell_type": "code",
   "execution_count": null,
   "metadata": {
    "colab": {
     "base_uri": "https://localhost:8080/",
     "height": 285
    },
    "colab_type": "code",
    "id": "qnm-pTnv3r7u",
    "outputId": "d7eef727-c51e-439c-d121-5fdb277a036b"
   },
   "outputs": [
    {
     "data": {
      "text/plain": [
       "<matplotlib.image.AxesImage at 0x7fa5227ad668>"
      ]
     },
     "execution_count": 37,
     "metadata": {
      "tags": []
     },
     "output_type": "execute_result"
    },
    {
     "data": {
      "image/png": "[encoded data removed]",
      "text/plain": [
       "<Figure size 432x288 with 1 Axes>"
      ]
     },
     "metadata": {
      "needs_background": "light",
      "tags": []
     },
     "output_type": "display_data"
    }
   ],
   "source": [
    "plt.imshow(X_imaged_for_view[1])"
   ]
  },
  {
   "cell_type": "markdown",
   "metadata": {},
   "source": [
    "### Extra Noised Input Image"
   ]
  },
  {
   "cell_type": "code",
   "execution_count": null,
   "metadata": {
    "colab": {
     "base_uri": "https://localhost:8080/",
     "height": 304
    },
    "colab_type": "code",
    "id": "8KvaOFMa4Jxp",
    "outputId": "78875d5f-cada-463d-e998-7438d180be94"
   },
   "outputs": [
    {
     "name": "stderr",
     "output_type": "stream",
     "text": [
      "Clipping input data to the valid range for imshow with RGB data ([0..1] for floats or [0..255] for integers).\n"
     ]
    },
    {
     "data": {
      "text/plain": [
       "<matplotlib.image.AxesImage at 0x7fa522714400>"
      ]
     },
     "execution_count": 38,
     "metadata": {
      "tags": []
     },
     "output_type": "execute_result"
    },
    {
     "data": {
      "image/png": "[encoded data removed]",
      "text/plain": [
       "<Figure size 432x288 with 1 Axes>"
      ]
     },
     "metadata": {
      "needs_background": "light",
      "tags": []
     },
     "output_type": "display_data"
    }
   ],
   "source": [
    "plt.imshow(X_extra_noised_imaged_for_view[1])"
   ]
  },
  {
   "cell_type": "markdown",
   "metadata": {},
   "source": [
    "### Denoised Output Image"
   ]
  },
  {
   "cell_type": "code",
   "execution_count": null,
   "metadata": {
    "colab": {
     "base_uri": "https://localhost:8080/",
     "height": 304
    },
    "colab_type": "code",
    "id": "wRqEiG6Z3wZI",
    "outputId": "87484329-bf9e-4c59-9028-b7af69d139c5"
   },
   "outputs": [
    {
     "name": "stderr",
     "output_type": "stream",
     "text": [
      "Clipping input data to the valid range for imshow with RGB data ([0..1] for floats or [0..255] for integers).\n"
     ]
    },
    {
     "data": {
      "text/plain": [
       "<matplotlib.image.AxesImage at 0x7fa5227c78d0>"
      ]
     },
     "execution_count": 36,
     "metadata": {
      "tags": []
     },
     "output_type": "execute_result"
    },
    {
     "data": {
      "image/png": "[encoded data removed]",
      "text/plain": [
       "<Figure size 432x288 with 1 Axes>"
      ]
     },
     "metadata": {
      "needs_background": "light",
      "tags": []
     },
     "output_type": "display_data"
    }
   ],
   "source": [
    "plt.imshow(X_output_for_view[1])"
   ]
  },
  {
   "cell_type": "code",
   "execution_count": null,
   "metadata": {
    "colab": {},
    "colab_type": "code",
    "id": "D_XbNoQ_4P16"
   },
   "outputs": [],
   "source": []
  }
 ],
 "metadata": {
  "accelerator": "GPU",
  "colab": {
   "collapsed_sections": [
    "Pz_5ANM6Lpia",
    "Dp5ma2kfpsmd",
    "fga7w4U9nikE",
    "29q2SEnLxBOD",
    "2pULOHkV000B",
    "1Vl7e10VXyJY"
   ],
   "name": "AutoEncoder_Playground",
   "provenance": []
  },
  "kernelspec": {
   "display_name": "Python 3",
   "language": "python",
   "name": "python3"
  },
  "language_info": {
   "codemirror_mode": {
    "name": "ipython",
    "version": 3
   },
   "file_extension": ".py",
   "mimetype": "text/x-python",
   "name": "python",
   "nbconvert_exporter": "python",
   "pygments_lexer": "ipython3",
   "version": "3.8.2"
  }
 },
 "nbformat": 4,
 "nbformat_minor": 1
}
